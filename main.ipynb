{
 "cells": [
  {
   "cell_type": "code",
   "execution_count": null,
   "id": "f396e09e",
   "metadata": {},
   "outputs": [],
   "source": [
    "# import libraries \n",
    "\n",
    "import pandas as pd\n",
    "import numpy as np\n",
    "from sklearn.model_selection import train_test_split\n",
    "from sklearn.ensemble import GradientBoostingClassifier\n",
    "from sklearn.metrics import classification_report, confusion_matrix\n",
    "from sklearn.model_selection import StratifiedKFold, cross_val_score\n",
    "from sklearn.ensemble import RandomForestClassifier\n",
    "from imblearn.pipeline import Pipeline\n",
    "from imblearn.over_sampling import SMOTE\n",
    "import joblib\n",
    "\n"
   ]
  },
  {
   "cell_type": "code",
   "execution_count": 13,
   "id": "7484ea96",
   "metadata": {},
   "outputs": [],
   "source": [
    "# read data from the csv file \n",
    "try:\n",
    "    df = pd.read_csv('data/xclan_fitness_usage_dataset.csv')\n",
    "except FileNotFoundError:\n",
    "    print(\"Dataset not found. Please make sure the file is located at 'data/xclan_fitness_usage_dataset.csv'\")\n"
   ]
  },
  {
   "cell_type": "code",
   "execution_count": null,
   "id": "ed7887d2",
   "metadata": {},
   "outputs": [],
   "source": [
    "# get the required data \n",
    "# Convert dates\n",
    "df['session_date'] = pd.to_datetime(df['session_date'])\n",
    "df['signup_date'] = pd.to_datetime(df['signup_date'])\n",
    "df['last_login_date'] = pd.to_datetime(df['last_login_date'])\n",
    "\n",
    "# Map check-ins and dropoffs\n",
    "df['completed_goal_checkin'] = df['completed_goal_checkin'].map({'Yes': 1, 'No': 0})\n",
    "# df['dropoff_flag'] = df['dropoff_flag'].map({'Yes': 1, 'No': 0})\n",
    "\n",
    "# Sort by user and session_date\n",
    "df = df.sort_values(by=['user_id', 'session_date']).reset_index(drop=True)\n",
    "\n",
    "# Initialize empty columns\n",
    "df['session_frequency'] = 0.0\n",
    "df['time_spent'] = 0.0\n",
    "df['progress_logs'] = 0.0\n",
    "\n",
    "# Loop through users\n",
    "for user_id, user_df in df.groupby('user_id'):\n",
    "    session_dates = user_df['session_date']\n",
    "    durations = user_df['session_duration_minutes']\n",
    "    checkins = user_df['completed_goal_checkin']\n",
    "\n",
    "    # For each session, calculate past stats\n",
    "    for i in range(len(user_df)):\n",
    "        past_sessions = user_df.iloc[:i+1]\n",
    "\n",
    "        days_range = (past_sessions['session_date'].max() - past_sessions['session_date'].min()).days + 1\n",
    "        sessions_count = len(past_sessions)\n",
    "\n",
    "        freq = sessions_count / days_range if days_range > 0 else 1\n",
    "        avg_time = past_sessions['session_duration_minutes'].mean()\n",
    "        checkin_avg = past_sessions['completed_goal_checkin'].mean()\n",
    "\n",
    "        df.loc[past_sessions.index[-1], 'session_frequency'] = freq\n",
    "        df.loc[past_sessions.index[-1], 'time_spent'] = avg_time\n",
    "        df.loc[past_sessions.index[-1], 'progress_logs'] = checkin_avg\n",
    "\n",
    "model_df = df[['user_id','session_frequency', 'time_spent', 'progress_logs', 'dropoff_flag']] # for training the model\n"
   ]
  },
  {
   "cell_type": "code",
   "execution_count": null,
   "id": "cbec8e0d",
   "metadata": {},
   "outputs": [
    {
     "name": "stdout",
     "output_type": "stream",
     "text": [
      " Stratified CV Recall Scores (Fold by Fold): [0.31818182 0.47826087 0.47826087 0.30434783 0.52173913]\n",
      " Average Recall (dropout detection): 0.42015810276679844\n",
      "\n",
      " Confusion Matrix:\n",
      "[[189  77]\n",
      " [ 17  17]]\n",
      "\n",
      " Classification Report:\n",
      "              precision    recall  f1-score   support\n",
      "\n",
      "           0      0.917     0.711     0.801       266\n",
      "           1      0.181     0.500     0.266        34\n",
      "\n",
      "    accuracy                          0.687       300\n",
      "   macro avg      0.549     0.605     0.533       300\n",
      "weighted avg      0.834     0.687     0.740       300\n",
      "\n"
     ]
    }
   ],
   "source": [
    "# model code \n",
    "\n",
    "# it will be user level prediciton\n",
    "# drop out risk on the level of the user not the session\n",
    "# ensure dropoff_flag is binary\n",
    "df['dropoff_flag'] = df['dropoff_flag'].map({'Yes': 1, 'No': 0})\n",
    "\n",
    "# aggregate user-level features\n",
    "features_df = df.groupby('user_id')[['session_frequency', 'time_spent', 'progress_logs']].mean()\n",
    "dropouts = df.groupby('user_id')['dropoff_flag'].max()  \n",
    "user_grouped_df = features_df.copy()\n",
    "user_grouped_df['dropoff_flag'] = dropouts\n",
    "\n",
    "# Features and Target\n",
    "X = user_grouped_df[['session_frequency', 'time_spent', 'progress_logs']]\n",
    "y = user_grouped_df['dropoff_flag']\n",
    "\n",
    "\n",
    "pipeline = Pipeline([\n",
    "    ('smote', SMOTE(random_state=42)),\n",
    "    ('gb', GradientBoostingClassifier(random_state=42))\n",
    "])\n",
    "\n",
    "#  Cross-validation using full dataset (X, y)\n",
    "skf = StratifiedKFold(n_splits=5, shuffle=True, random_state=42)\n",
    "cv_scores = cross_val_score(pipeline, X, y, cv=skf, scoring='recall')\n",
    "\n",
    "print(\" Stratified CV Recall Scores (Fold by Fold):\", cv_scores)\n",
    "print(\" Average Recall (dropout detection):\", np.mean(cv_scores))\n",
    "\n",
    "#  Train-test split to evaluate classification report\n",
    "X_train, X_test, y_train, y_test = train_test_split(X, y, test_size=0.3, stratify=y, random_state=42)\n",
    "pipeline.fit(X_train, y_train)\n",
    "y_pred = pipeline.predict(X_test)\n",
    "\n",
    "print(\"\\n Confusion Matrix:\")\n",
    "print(confusion_matrix(y_test, y_pred))\n",
    "\n",
    "print(\"\\n Classification Report:\")\n",
    "print(classification_report(y_test, y_pred, digits=3))\n",
    "\n"
   ]
  },
  {
   "cell_type": "code",
   "execution_count": 16,
   "id": "a9f20246",
   "metadata": {},
   "outputs": [
    {
     "data": {
      "text/plain": [
       "['dropout_gb_model.pkl']"
      ]
     },
     "execution_count": 16,
     "metadata": {},
     "output_type": "execute_result"
    }
   ],
   "source": [
    "# save the model \n",
    "joblib.dump(pipeline, 'dropout_gb_model.pkl')\n"
   ]
  },
  {
   "cell_type": "code",
   "execution_count": null,
   "id": "51a6af6a",
   "metadata": {},
   "outputs": [],
   "source": []
  }
 ],
 "metadata": {
  "kernelspec": {
   "display_name": "Python 3",
   "language": "python",
   "name": "python3"
  },
  "language_info": {
   "codemirror_mode": {
    "name": "ipython",
    "version": 3
   },
   "file_extension": ".py",
   "mimetype": "text/x-python",
   "name": "python",
   "nbconvert_exporter": "python",
   "pygments_lexer": "ipython3",
   "version": "3.10.12"
  }
 },
 "nbformat": 4,
 "nbformat_minor": 5
}
